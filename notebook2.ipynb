{
 "cells": [
  {
   "cell_type": "code",
   "execution_count": 3,
   "id": "7b8c0715",
   "metadata": {
    "_cell_guid": "b1076dfc-b9ad-4769-8c92-a6c4dae69d19",
    "_uuid": "8f2839f25d086af736a60e9eeb907d3b93b6e0e5",
    "papermill": {
     "duration": 112.44419,
     "end_time": "2025-03-19T04:17:35.571858",
     "exception": false,
     "start_time": "2025-03-19T04:15:43.127668",
     "status": "completed"
    },
    "tags": []
   },
   "outputs": [],
   "source": [
    "import h5py\n",
    "import numpy as np\n",
    "import pandas as pd\n",
    "import xgboost as xgb\n",
    "from sklearn.model_selection import KFold\n",
    "from sklearn.preprocessing import StandardScaler\n",
    "from sklearn.metrics import mean_squared_error, r2_score\n",
    "from sklearn.multioutput import MultiOutputRegressor\n",
    "from sklearn.ensemble import RandomForestRegressor"
   ]
  },
  {
   "cell_type": "code",
   "execution_count": 4,
   "id": "41942f6f-5f39-4356-bac3-3c3f9900a927",
   "metadata": {},
   "outputs": [],
   "source": [
    "def load_train_data(h5_file_path):\n",
    "    train_spot_tables = {}\n",
    "    with h5py.File(h5_file_path, \"r\") as f:\n",
    "        train_spots = f[\"spots/Train\"]\n",
    "        for slide_name in train_spots.keys():\n",
    "            spot_array = np.array(train_spots[slide_name])\n",
    "            df = pd.DataFrame(spot_array)\n",
    "            train_spot_tables[slide_name] = df\n",
    "    print(\"Training data loaded successfully.\")\n",
    "    return train_spot_tables\n",
    "\n",
    "def prepare_training_set(train_spot_tables, slides=None):\n",
    "    if slides is None:\n",
    "        slides = list(train_spot_tables.keys())\n",
    "    \n",
    "    X_list, y_list = [], []\n",
    "    for slide_id in slides:\n",
    "        df = train_spot_tables[slide_id]\n",
    "        feature_cols = ['x', 'y']\n",
    "        target_cols = [col for col in df.columns if col not in feature_cols]\n",
    "        \n",
    "        X_list.append(df[feature_cols].values.astype(float))\n",
    "        y_list.append(df[target_cols].values.astype(float))\n",
    "    \n",
    "    return np.vstack(X_list), np.vstack(y_list), target_cols"
   ]
  },
  {
   "cell_type": "code",
   "execution_count": null,
   "id": "7df809cb-3f65-41d9-a9c8-ee884ff754ab",
   "metadata": {},
   "outputs": [],
   "source": []
  },
  {
   "cell_type": "code",
   "execution_count": 5,
   "id": "7d4fb412-3305-4b7e-908a-fb7da9de0957",
   "metadata": {},
   "outputs": [],
   "source": [
    "def train_multioutput_xgb(X, y, n_splits=5):\n",
    "    kf = KFold(n_splits=n_splits, shuffle=True, random_state=42)\n",
    "    models = []\n",
    "    fold = 1\n",
    "    for train_index, val_index in kf.split(X):\n",
    "        X_train, X_val = X[train_index], X[val_index]\n",
    "        y_train, y_val = y[train_index], y[val_index]\n",
    "        \n",
    "        model = MultiOutputRegressor(xgb.XGBRegressor(objective='reg:squarederror', n_estimators=1000, max_depth=6, learning_rate=0.1, subsample=0.8, colsample_bytree=0.8, random_state=42))\n",
    "        model.fit(X_train, y_train)\n",
    "        models.append(model)\n",
    "        \n",
    "        y_pred = model.predict(X_val)\n",
    "        mse = mean_squared_error(y_val, y_pred)\n",
    "        r2 = r2_score(y_val, y_pred)\n",
    "        print(f\"Fold {fold}: MSE={mse:.4f}, R²={r2:.4f}\")\n",
    "        fold += 1\n",
    "    \n",
    "    return models"
   ]
  },
  {
   "cell_type": "code",
   "execution_count": null,
   "id": "561ecdc2-42dd-44e8-804d-7615b15df8eb",
   "metadata": {},
   "outputs": [],
   "source": []
  },
  {
   "cell_type": "code",
   "execution_count": 6,
   "id": "d21614a5-1471-4174-85d0-aac13dbe0453",
   "metadata": {},
   "outputs": [],
   "source": [
    "def load_test_data(h5_file_path, slide_id):\n",
    "    with h5py.File(h5_file_path, \"r\") as f:\n",
    "        test_spots = f[\"spots/Test\"]\n",
    "        if slide_id not in test_spots:\n",
    "            raise ValueError(f\"Slide {slide_id} not found in test data.\")\n",
    "        spot_array = np.array(test_spots[slide_id])\n",
    "        test_df = pd.DataFrame(spot_array)\n",
    "    print(f\"Test data for slide {slide_id} loaded successfully.\")\n",
    "    return test_df\n",
    "    \n",
    "def predict(models, X_test):\n",
    "    predictions = np.mean([model.predict(X_test) for model in models], axis=0)\n",
    "    return predictions\n",
    "    \n",
    "def create_submission(test_df, predictions, target_cols, submission_filename=\"submission.csv\"):\n",
    "    pred_df = pd.DataFrame(predictions, columns=target_cols, index=test_df.index)\n",
    "    pred_df.insert(0, 'ID', pred_df.index)\n",
    "    pred_df.to_csv(submission_filename, index=False)\n",
    "    print(f\"Submission file '{submission_filename}' created!\")"
   ]
  },
  {
   "cell_type": "code",
   "execution_count": null,
   "id": "1faf28ee-4652-47df-a045-f0624aa917da",
   "metadata": {},
   "outputs": [],
   "source": []
  },
  {
   "cell_type": "code",
   "execution_count": null,
   "id": "4228c674-cc30-4fad-a3b8-7a0432dbcccc",
   "metadata": {},
   "outputs": [],
   "source": [
    "h5_file_path = \"elucidata_ai_challenge_data.h5\""
   ]
  },
  {
   "cell_type": "code",
   "execution_count": null,
   "id": "c6ae9d00-d617-43af-92e7-54e850f9f802",
   "metadata": {},
   "outputs": [],
   "source": []
  },
  {
   "cell_type": "code",
   "execution_count": null,
   "id": "b4ee5dda-3e51-4395-a077-2670a735c083",
   "metadata": {},
   "outputs": [],
   "source": [
    "train_spot_tables = load_train_data(h5_file_path)\n",
    "X, y, target_cols = prepare_training_set(train_spot_tables)"
   ]
  },
  {
   "cell_type": "code",
   "execution_count": null,
   "id": "c83051d6-cbc8-498c-b11a-9a587e6091a8",
   "metadata": {},
   "outputs": [],
   "source": []
  },
  {
   "cell_type": "code",
   "execution_count": null,
   "id": "1ef06268-414e-4821-8789-ba25e6a0cdd9",
   "metadata": {},
   "outputs": [],
   "source": [
    "models = train_multioutput_xgb(X, y, n_splits=5)"
   ]
  },
  {
   "cell_type": "code",
   "execution_count": null,
   "id": "74fae0a9-00cb-4d8a-8bff-5401d0dd1d24",
   "metadata": {},
   "outputs": [],
   "source": []
  },
  {
   "cell_type": "code",
   "execution_count": null,
   "id": "28cd505e-5d6f-46e0-9e9d-619bc2a4724f",
   "metadata": {},
   "outputs": [],
   "source": [
    "# Load test data\n",
    "test_df = load_test_data(h5_file_path, slide_id='S_7')\n",
    "X_test = test_df[['x', 'y']].values.astype(float)\n",
    "predictions = predict(models, X_test)\n",
    "create_submission(test_df, predictions, target_cols)"
   ]
  },
  {
   "cell_type": "code",
   "execution_count": null,
   "id": "30b431ec-cd70-4aa8-a726-122c746abcbe",
   "metadata": {},
   "outputs": [],
   "source": []
  }
 ],
 "metadata": {
  "kaggle": {
   "accelerator": "gpu",
   "dataSources": [
    {
     "databundleVersionId": 11390004,
     "sourceId": 94147,
     "sourceType": "competition"
    }
   ],
   "dockerImageVersionId": 30919,
   "isGpuEnabled": true,
   "isInternetEnabled": true,
   "language": "python",
   "sourceType": "notebook"
  },
  "kernelspec": {
   "display_name": "Python 3 (ipykernel)",
   "language": "python",
   "name": "python3"
  },
  "language_info": {
   "codemirror_mode": {
    "name": "ipython",
    "version": 3
   },
   "file_extension": ".py",
   "mimetype": "text/x-python",
   "name": "python",
   "nbconvert_exporter": "python",
   "pygments_lexer": "ipython3",
   "version": "3.11.8"
  },
  "papermill": {
   "default_parameters": {},
   "duration": 115.979343,
   "end_time": "2025-03-19T04:17:36.393177",
   "environment_variables": {},
   "exception": null,
   "input_path": "__notebook__.ipynb",
   "output_path": "__notebook__.ipynb",
   "parameters": {},
   "start_time": "2025-03-19T04:15:40.413834",
   "version": "2.6.0"
  }
 },
 "nbformat": 4,
 "nbformat_minor": 5
}
